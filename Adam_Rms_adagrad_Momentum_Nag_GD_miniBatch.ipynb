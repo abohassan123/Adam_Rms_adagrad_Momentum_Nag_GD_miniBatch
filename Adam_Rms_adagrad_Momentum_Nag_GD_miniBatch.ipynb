{
 "cells": [
  {
   "cell_type": "code",
   "execution_count": 1,
   "metadata": {},
   "outputs": [],
   "source": [
    "import pandas as pd\n",
    "import numpy as np\n",
    "from sklearn.preprocessing import MinMaxScaler\n",
    "from sklearn.preprocessing import StandardScaler\n",
    "from sklearn.model_selection import train_test_split\n",
    "from sklearn.metrics import r2_score\n",
    "import matplotlib.pyplot as plt\n",
    "from sklearn.decomposition import PCA\n",
    "import warnings\n",
    "warnings.filterwarnings('ignore')\n",
    "pd.set_option(\"display.max_columns\",None)"
   ]
  },
  {
   "cell_type": "code",
   "execution_count": 2,
   "metadata": {},
   "outputs": [],
   "source": [
    "# data_df=pd.read_csv(\"data_df_train.csv\")\n",
    "# data_df.drop(columns=\"Unnamed: 0\",inplace=True)"
   ]
  },
  {
   "cell_type": "code",
   "execution_count": 3,
   "metadata": {
    "scrolled": true
   },
   "outputs": [],
   "source": [
    "# data_df.shape"
   ]
  },
  {
   "cell_type": "code",
   "execution_count": 4,
   "metadata": {},
   "outputs": [],
   "source": [
    "# y = data_df[['SalePrice']]\n",
    "# X = data_df[list(set(data_df.columns) - set(['SalePrice']))]"
   ]
  },
  {
   "cell_type": "code",
   "execution_count": 5,
   "metadata": {},
   "outputs": [],
   "source": [
    "# X_train, X_val, y_train, y_val = train_test_split(X, y, test_size=0.2, random_state=0)"
   ]
  },
  {
   "cell_type": "code",
   "execution_count": 6,
   "metadata": {},
   "outputs": [],
   "source": [
    "# X_train=np.array(X_train)\n",
    "# y_train=y_train.values"
   ]
  },
  {
   "cell_type": "code",
   "execution_count": 7,
   "metadata": {},
   "outputs": [],
   "source": [
    "def Batch(x,start,batch_size):\n",
    "    return x[start:start+batch_size,:]"
   ]
  },
  {
   "cell_type": "code",
   "execution_count": 8,
   "metadata": {},
   "outputs": [],
   "source": [
    "# X_train.shape"
   ]
  },
  {
   "cell_type": "code",
   "execution_count": 9,
   "metadata": {
    "scrolled": true
   },
   "outputs": [
    {
     "data": {
      "text/html": [
       "<div>\n",
       "<style scoped>\n",
       "    .dataframe tbody tr th:only-of-type {\n",
       "        vertical-align: middle;\n",
       "    }\n",
       "\n",
       "    .dataframe tbody tr th {\n",
       "        vertical-align: top;\n",
       "    }\n",
       "\n",
       "    .dataframe thead th {\n",
       "        text-align: right;\n",
       "    }\n",
       "</style>\n",
       "<table border=\"1\" class=\"dataframe\">\n",
       "  <thead>\n",
       "    <tr style=\"text-align: right;\">\n",
       "      <th></th>\n",
       "      <th>0</th>\n",
       "      <th>1</th>\n",
       "      <th>2</th>\n",
       "      <th>3</th>\n",
       "    </tr>\n",
       "  </thead>\n",
       "  <tbody>\n",
       "    <tr>\n",
       "      <th>0</th>\n",
       "      <td>73</td>\n",
       "      <td>80</td>\n",
       "      <td>75</td>\n",
       "      <td>152</td>\n",
       "    </tr>\n",
       "    <tr>\n",
       "      <th>1</th>\n",
       "      <td>93</td>\n",
       "      <td>88</td>\n",
       "      <td>93</td>\n",
       "      <td>185</td>\n",
       "    </tr>\n",
       "    <tr>\n",
       "      <th>2</th>\n",
       "      <td>89</td>\n",
       "      <td>91</td>\n",
       "      <td>90</td>\n",
       "      <td>180</td>\n",
       "    </tr>\n",
       "    <tr>\n",
       "      <th>3</th>\n",
       "      <td>96</td>\n",
       "      <td>98</td>\n",
       "      <td>100</td>\n",
       "      <td>196</td>\n",
       "    </tr>\n",
       "    <tr>\n",
       "      <th>4</th>\n",
       "      <td>73</td>\n",
       "      <td>66</td>\n",
       "      <td>70</td>\n",
       "      <td>142</td>\n",
       "    </tr>\n",
       "  </tbody>\n",
       "</table>\n",
       "</div>"
      ],
      "text/plain": [
       "    0   1    2    3\n",
       "0  73  80   75  152\n",
       "1  93  88   93  185\n",
       "2  89  91   90  180\n",
       "3  96  98  100  196\n",
       "4  73  66   70  142"
      ]
     },
     "execution_count": 9,
     "metadata": {},
     "output_type": "execute_result"
    }
   ],
   "source": [
    "df = pd.read_csv('MultipleLR.csv',header=None)\n",
    "df.head()"
   ]
  },
  {
   "cell_type": "code",
   "execution_count": 10,
   "metadata": {},
   "outputs": [
    {
     "data": {
      "text/plain": [
       "(25, 4)"
      ]
     },
     "execution_count": 10,
     "metadata": {},
     "output_type": "execute_result"
    }
   ],
   "source": [
    "df.shape"
   ]
  },
  {
   "cell_type": "code",
   "execution_count": 11,
   "metadata": {},
   "outputs": [],
   "source": [
    "X=df[[0,1,2]]\n",
    "y=df[[3]]\n"
   ]
  },
  {
   "cell_type": "code",
   "execution_count": 12,
   "metadata": {},
   "outputs": [],
   "source": [
    "X_train, X_test, y_train, y_test = train_test_split(X, y, test_size=0.2, random_state=0)"
   ]
  },
  {
   "cell_type": "code",
   "execution_count": 13,
   "metadata": {},
   "outputs": [
    {
     "data": {
      "text/plain": [
       "array([[ 78,  83,  85],\n",
       "       [ 81,  90,  93],\n",
       "       [ 96,  93,  95],\n",
       "       [ 76,  83,  71],\n",
       "       [ 70,  73,  78],\n",
       "       [ 93,  88,  93],\n",
       "       [ 69,  70,  73],\n",
       "       [ 79,  80,  73],\n",
       "       [ 87,  79,  90],\n",
       "       [ 69,  74,  77],\n",
       "       [ 88,  92,  86],\n",
       "       [ 73,  66,  70],\n",
       "       [ 79,  70,  88],\n",
       "       [ 47,  56,  60],\n",
       "       [ 82,  86,  90],\n",
       "       [ 96,  98, 100],\n",
       "       [ 73,  80,  75],\n",
       "       [ 86,  82,  89],\n",
       "       [ 93,  89,  96],\n",
       "       [ 93,  95,  91]], dtype=int64)"
      ]
     },
     "execution_count": 13,
     "metadata": {},
     "output_type": "execute_result"
    }
   ],
   "source": [
    "X_train=X_train.values\n",
    "X_train"
   ]
  },
  {
   "cell_type": "code",
   "execution_count": 14,
   "metadata": {},
   "outputs": [
    {
     "data": {
      "text/plain": [
       "array([[175],\n",
       "       [183],\n",
       "       [192],\n",
       "       [149],\n",
       "       [148],\n",
       "       [185],\n",
       "       [141],\n",
       "       [152],\n",
       "       [175],\n",
       "       [149],\n",
       "       [177],\n",
       "       [142],\n",
       "       [164],\n",
       "       [115],\n",
       "       [177],\n",
       "       [196],\n",
       "       [152],\n",
       "       [175],\n",
       "       [192],\n",
       "       [184]], dtype=int64)"
      ]
     },
     "execution_count": 14,
     "metadata": {},
     "output_type": "execute_result"
    }
   ],
   "source": [
    "y_train=y_train.values\n",
    "y_train"
   ]
  },
  {
   "cell_type": "code",
   "execution_count": 15,
   "metadata": {},
   "outputs": [],
   "source": [
    "# df = pd.read_csv('RegData.csv',header=None)\n",
    "# df"
   ]
  },
  {
   "cell_type": "code",
   "execution_count": 16,
   "metadata": {},
   "outputs": [],
   "source": [
    "# X=df[[0]]\n",
    "# y=df[[1]]"
   ]
  },
  {
   "cell_type": "code",
   "execution_count": 17,
   "metadata": {},
   "outputs": [],
   "source": [
    "# X=np.linspace(0,20).reshape(-1,1)\n",
    "# a=-1\n",
    "# b=2"
   ]
  },
  {
   "cell_type": "code",
   "execution_count": 18,
   "metadata": {},
   "outputs": [],
   "source": [
    "# y = a*X + b\n",
    "# y=y.reshape(-1,1)"
   ]
  },
  {
   "cell_type": "code",
   "execution_count": 19,
   "metadata": {},
   "outputs": [],
   "source": [
    "# X.shape"
   ]
  },
  {
   "cell_type": "code",
   "execution_count": 20,
   "metadata": {},
   "outputs": [],
   "source": [
    "# y.shape"
   ]
  },
  {
   "cell_type": "code",
   "execution_count": 21,
   "metadata": {},
   "outputs": [],
   "source": [
    "# y"
   ]
  },
  {
   "cell_type": "code",
   "execution_count": 22,
   "metadata": {},
   "outputs": [],
   "source": [
    "# X_train, X_test, y_train, y_test = train_test_split(X, y, test_size=0.2, random_state=0,shuffle =True)"
   ]
  },
  {
   "cell_type": "code",
   "execution_count": 23,
   "metadata": {},
   "outputs": [],
   "source": [
    "# X_train=X_train.values\n",
    "# y_train=y_train.values"
   ]
  },
  {
   "cell_type": "code",
   "execution_count": 24,
   "metadata": {},
   "outputs": [],
   "source": [
    "# plt.scatter(X_train,y_train)"
   ]
  },
  {
   "cell_type": "code",
   "execution_count": 25,
   "metadata": {},
   "outputs": [
    {
     "data": {
      "text/plain": [
       "(20, 3)"
      ]
     },
     "execution_count": 25,
     "metadata": {},
     "output_type": "execute_result"
    }
   ],
   "source": [
    "X_train.shape"
   ]
  },
  {
   "cell_type": "markdown",
   "metadata": {},
   "source": [
    "## `ADAM`"
   ]
  },
  {
   "cell_type": "code",
   "execution_count": 26,
   "metadata": {},
   "outputs": [],
   "source": [
    "def fit(x_data,y_data,max_itr,alpha,beta_1,beta_2,batch_size,tolerance=1e-3):\n",
    "    \n",
    "    x_0=np.ones((x_data.shape[0],1))\n",
    "    x_data=np.concatenate((x_0, x_data), axis=1)\n",
    "    y_data=np.array(y_data).reshape(y_data.shape[0],1)\n",
    "    x=x_data\n",
    "    y=y_data\n",
    "    cost=[]\n",
    "    cost_itrs=[]\n",
    "    theta=np.zeros( ((x.shape[1]),1) )\n",
    "    mt=np.zeros( ((x.shape[1]),1) )\n",
    "    vt=np.zeros( ((x.shape[1]),1) )\n",
    "    m=x_data.shape[0]\n",
    "    itr=0\n",
    "    i=0\n",
    "    epsilon=1e-6\n",
    "    grad=[1000000]\n",
    "    c_0=1e10 #asume large last cost\n",
    "    c_1=1e9 # asume large current cost\n",
    "    while( (itr< max_itr and abs(c_1-c_0)>tolerance)  ):\n",
    "        i=i+1\n",
    "        for j in range(0,m,batch_size):\n",
    "            x_b=Batch(x,j,batch_size)\n",
    "            y_b=Batch(y,j,batch_size)\n",
    "            \n",
    "            h_theta=x_b@theta\n",
    "            err=(h_theta-y_b)\n",
    "            cost_fun=(err.T@err)/(2*batch_size)\n",
    "            cost.append(cost_fun[0][0])\n",
    "            c_0=c_1\n",
    "            c_1=cost_fun[0][0]\n",
    "            grad= x_b.T@err/batch_size\n",
    "\n",
    "\n",
    "            mt=(beta_1*mt)+((1-beta_1)*grad)\n",
    "            mt=mt/( 1 - pow(beta_1, i+1) )\n",
    "            vt = (beta_2*vt)+((1-beta_2)*(grad**2))\n",
    "            vt=vt/( 1 - pow(beta_2, i+1) )#bias\n",
    "            theta=theta-(alpha/((epsilon+vt)**0.5)) *mt\n",
    "            if (len(cost)>2 and abs(cost[-2]-cost[-1])<tolerance):\n",
    "                break\n",
    "        \n",
    "        \n",
    "        cost_itrs.append(cost_fun[0][0])\n",
    "        itr=itr+1\n",
    "    return theta,cost,cost_itrs"
   ]
  },
  {
   "cell_type": "code",
   "execution_count": 27,
   "metadata": {},
   "outputs": [],
   "source": [
    "def predict(x,w):\n",
    "    x_0=np.ones((x.shape[0],1))\n",
    "    x=np.concatenate((x_0, x), axis=1)\n",
    "    return x@w"
   ]
  },
  {
   "cell_type": "code",
   "execution_count": 28,
   "metadata": {},
   "outputs": [],
   "source": [
    "def score(y,y_predict):\n",
    "    score=r2_score(y, y_predict)\n",
    "    return score\n"
   ]
  },
  {
   "cell_type": "code",
   "execution_count": 29,
   "metadata": {},
   "outputs": [],
   "source": [
    "weights,cost,cost_itrs=fit(x_data=X_train,y_data=y_train,max_itr=1000,alpha=0.01,beta_1=0.82,beta_2=0.90,batch_size=10,tolerance=1e-3)\n"
   ]
  },
  {
   "cell_type": "code",
   "execution_count": 30,
   "metadata": {
    "scrolled": true
   },
   "outputs": [
    {
     "data": {
      "text/plain": [
       "2000"
      ]
     },
     "execution_count": 30,
     "metadata": {},
     "output_type": "execute_result"
    }
   ],
   "source": [
    "len(cost)"
   ]
  },
  {
   "cell_type": "code",
   "execution_count": 31,
   "metadata": {},
   "outputs": [
    {
     "data": {
      "text/plain": [
       "1000"
      ]
     },
     "execution_count": 31,
     "metadata": {},
     "output_type": "execute_result"
    }
   ],
   "source": [
    "len(cost_itrs)"
   ]
  },
  {
   "cell_type": "code",
   "execution_count": 32,
   "metadata": {},
   "outputs": [
    {
     "data": {
      "text/plain": [
       "1.621315117341323"
      ]
     },
     "execution_count": 32,
     "metadata": {},
     "output_type": "execute_result"
    }
   ],
   "source": [
    "cost[-1]"
   ]
  },
  {
   "cell_type": "code",
   "execution_count": 33,
   "metadata": {},
   "outputs": [
    {
     "data": {
      "text/plain": [
       "4.098878629751425"
      ]
     },
     "execution_count": 33,
     "metadata": {},
     "output_type": "execute_result"
    }
   ],
   "source": [
    "cost[-2]"
   ]
  },
  {
   "cell_type": "code",
   "execution_count": 34,
   "metadata": {},
   "outputs": [],
   "source": [
    "y_predict=predict(X_train,weights)\n"
   ]
  },
  {
   "cell_type": "code",
   "execution_count": 35,
   "metadata": {},
   "outputs": [
    {
     "data": {
      "text/plain": [
       "0.9870893157234244"
      ]
     },
     "execution_count": 35,
     "metadata": {},
     "output_type": "execute_result"
    }
   ],
   "source": [
    "score=r2_score(y_train, y_predict)\n",
    "score"
   ]
  },
  {
   "cell_type": "code",
   "execution_count": 36,
   "metadata": {},
   "outputs": [
    {
     "data": {
      "image/png": "[encoded data removed]",
      "text/plain": [
       "<Figure size 432x288 with 1 Axes>"
      ]
     },
     "metadata": {
      "needs_background": "light"
     },
     "output_type": "display_data"
    }
   ],
   "source": [
    "plt.plot(cost_itrs);"
   ]
  },
  {
   "cell_type": "markdown",
   "metadata": {},
   "source": [
    "## `Adagrad`"
   ]
  },
  {
   "cell_type": "code",
   "execution_count": 37,
   "metadata": {},
   "outputs": [],
   "source": [
    "def fit2(x_data,y_data,max_itr,alpha,batch_size):\n",
    "    \n",
    "    x_0=np.ones((x_data.shape[0],1))\n",
    "    x_data=np.concatenate((x_0, x_data), axis=1)\n",
    "    y_data=np.array(y_data).reshape(y_data.shape[0],1)\n",
    "    x=x_data\n",
    "    y=y_data\n",
    "    cost=[]\n",
    "    theta=np.zeros( ((x.shape[1]),1) )\n",
    "    vt=np.zeros( ((x.shape[1]),1) )\n",
    "    m=x_data.shape[0]\n",
    "    itr=0\n",
    "    i=0\n",
    "    epsilon=1e-8\n",
    "    grad=[1000000]\n",
    "    c_0=1e10 #asume large last cost\n",
    "    c_1=1e9 # asume large current cost\n",
    "    while( (itr< max_itr and abs(c_1-c_0)>0.000000000001)  ):\n",
    "        i=i+1\n",
    "        for j in range(0,m,batch_size):\n",
    "            x_b=Batch(x,j,batch_size)\n",
    "            y_b=Batch(y,j,batch_size)\n",
    "            \n",
    "            h_theta=x_b@theta\n",
    "            err=(h_theta-y_b)\n",
    "            cost_fun=(err.T@err)/(2*batch_size)\n",
    "            cost.append(cost_fun[0][0])\n",
    "            c_0=c_1\n",
    "            c_1=cost_fun[0][0]\n",
    "            grad= x_b.T@err/batch_size\n",
    "\n",
    "            vt = (vt)+(grad**2)\n",
    "            theta=theta-(alpha/((epsilon+vt)**0.5)) *grad\n",
    "        \n",
    "        \n",
    "        itr=itr+1\n",
    "    return theta"
   ]
  },
  {
   "cell_type": "code",
   "execution_count": 38,
   "metadata": {},
   "outputs": [],
   "source": [
    "weights=fit2(x_data=X_train,y_data=y_train,max_itr=10000,alpha=0.015,batch_size=256)\n"
   ]
  },
  {
   "cell_type": "code",
   "execution_count": 39,
   "metadata": {},
   "outputs": [
    {
     "data": {
      "text/plain": [
       "array([[166.53096579],\n",
       "       [178.68602719],\n",
       "       [192.11859717],\n",
       "       [155.63557893],\n",
       "       [149.6976057 ],\n",
       "       [185.39625762],\n",
       "       [143.60753534],\n",
       "       [157.00529836],\n",
       "       [173.30308385],\n",
       "       [149.01355662],\n",
       "       [179.9420791 ],\n",
       "       [141.56673702],\n",
       "       [160.55094031],\n",
       "       [110.61351533],\n",
       "       [174.63313251],\n",
       "       [198.87612377],\n",
       "       [154.34596124],\n",
       "       [173.9571898 ],\n",
       "       [188.11261856],\n",
       "       [188.71494461]])"
      ]
     },
     "execution_count": 39,
     "metadata": {},
     "output_type": "execute_result"
    }
   ],
   "source": [
    "y_predict=predict(X_train,weights)\n",
    "y_predict"
   ]
  },
  {
   "cell_type": "code",
   "execution_count": 40,
   "metadata": {},
   "outputs": [
    {
     "data": {
      "text/plain": [
       "0.9693618331134013"
      ]
     },
     "execution_count": 40,
     "metadata": {},
     "output_type": "execute_result"
    }
   ],
   "source": [
    "score=r2_score(y_train, y_predict)\n",
    "score"
   ]
  },
  {
   "cell_type": "code",
   "execution_count": 41,
   "metadata": {},
   "outputs": [
    {
     "data": {
      "text/plain": [
       "[<matplotlib.lines.Line2D at 0x239c21e3e48>]"
      ]
     },
     "execution_count": 41,
     "metadata": {},
     "output_type": "execute_result"
    },
    {
     "data": {
      "image/png": "[encoded data removed]",
      "text/plain": [
       "<Figure size 432x288 with 1 Axes>"
      ]
     },
     "metadata": {
      "needs_background": "light"
     },
     "output_type": "display_data"
    }
   ],
   "source": [
    "plt.plot(cost)"
   ]
  },
  {
   "cell_type": "markdown",
   "metadata": {},
   "source": [
    "## `RMSProp`"
   ]
  },
  {
   "cell_type": "code",
   "execution_count": 42,
   "metadata": {},
   "outputs": [],
   "source": [
    "def fit3(x_data,y_data,max_itr,alpha,beta,batch_size):\n",
    "    \n",
    "    x_0=np.ones((x_data.shape[0],1))\n",
    "    x_data=np.concatenate((x_0, x_data), axis=1)\n",
    "    y_data=np.array(y_data).reshape(y_data.shape[0],1)\n",
    "    x=x_data\n",
    "    y=y_data\n",
    "    cost=[]\n",
    "    theta=np.zeros( ((x.shape[1]),1) )\n",
    "    mt=np.zeros( ((x.shape[1]),1) )\n",
    "    vt=np.zeros( ((x.shape[1]),1) )\n",
    "    m=x_data.shape[0]\n",
    "    itr=0\n",
    "    i=0\n",
    "    epsilon=1e-8\n",
    "    grad=[1000000]\n",
    "    c_0=1e10 #asume large last cost\n",
    "    c_1=1e9 # asume large current cost\n",
    "    while( (itr< max_itr and abs(c_1-c_0)>0.000000000001)  ):\n",
    "        i=i+1\n",
    "        for j in range(0,m,batch_size):\n",
    "            x_b=Batch(x,j,batch_size)\n",
    "            y_b=Batch(y,j,batch_size)\n",
    "            \n",
    "            h_theta=x_b@theta\n",
    "            err=(h_theta-y_b)\n",
    "            cost_fun=(err.T@err)/(2*batch_size)\n",
    "            cost.append(cost_fun[0][0])\n",
    "            c_0=c_1\n",
    "            c_1=cost_fun[0][0]\n",
    "            grad= x_b.T@err/batch_size\n",
    "\n",
    "            vt = (beta*vt)+((1-beta)*(grad**2))\n",
    "            theta=theta-(alpha/((epsilon+vt)**0.5)) *grad\n",
    "        \n",
    "        \n",
    "        itr=itr+1\n",
    "    return theta"
   ]
  },
  {
   "cell_type": "code",
   "execution_count": 43,
   "metadata": {},
   "outputs": [],
   "source": [
    "weights=fit3(x_data=X_train,y_data=y_train,max_itr=10000,alpha=0.001,beta=0.98,batch_size=64)\n"
   ]
  },
  {
   "cell_type": "code",
   "execution_count": 44,
   "metadata": {},
   "outputs": [
    {
     "data": {
      "text/plain": [
       "array([[167.89156032],\n",
       "       [181.94305199],\n",
       "       [190.88854337],\n",
       "       [150.07119837],\n",
       "       [151.97410197],\n",
       "       [185.10682252],\n",
       "       [144.12561006],\n",
       "       [152.15495297],\n",
       "       [175.2298398 ],\n",
       "       [150.87144603],\n",
       "       [176.68287064],\n",
       "       [139.96674134],\n",
       "       [165.89569328],\n",
       "       [114.24425022],\n",
       "       [176.76211774],\n",
       "       [199.32083833],\n",
       "       [152.55924834],\n",
       "       [175.05167543],\n",
       "       [189.24170792],\n",
       "       [185.89411658]])"
      ]
     },
     "execution_count": 44,
     "metadata": {},
     "output_type": "execute_result"
    }
   ],
   "source": [
    "y_predict=predict(X_train,weights)\n",
    "y_predict"
   ]
  },
  {
   "cell_type": "code",
   "execution_count": 45,
   "metadata": {},
   "outputs": [
    {
     "data": {
      "text/plain": [
       "0.9870406844139213"
      ]
     },
     "execution_count": 45,
     "metadata": {},
     "output_type": "execute_result"
    }
   ],
   "source": [
    "score=r2_score(y_train, y_predict)\n",
    "score"
   ]
  },
  {
   "cell_type": "markdown",
   "metadata": {},
   "source": [
    "## `Momentum`"
   ]
  },
  {
   "cell_type": "code",
   "execution_count": 46,
   "metadata": {},
   "outputs": [],
   "source": [
    "def fit4(x_data,y_data,max_itr,alpha,gama,batch_size):\n",
    "    \n",
    "    x_0=np.ones((x_data.shape[0],1))\n",
    "    x_data=np.concatenate((x_0, x_data), axis=1)\n",
    "    y_data=np.array(y_data).reshape(y_data.shape[0],1)\n",
    "    x=x_data\n",
    "    y=y_data\n",
    "    cost=[]\n",
    "    theta=np.zeros( ((x.shape[1]),1) )\n",
    "    mt=np.zeros( ((x.shape[1]),1) )\n",
    "    vt=np.zeros( ((x.shape[1]),1) )\n",
    "    m=x_data.shape[0]\n",
    "    itr=0\n",
    "    i=0\n",
    "    epsilon=1e-8\n",
    "    grad=[1000000]\n",
    "    c_0=1e10 #asume large last cost\n",
    "    c_1=1e9 # asume large current cost\n",
    "    while( (itr< max_itr and abs(c_1-c_0)>0.000000000001)  ):\n",
    "        i=i+1\n",
    "        for j in range(0,m,batch_size):\n",
    "            x_b=Batch(x,j,batch_size)\n",
    "            y_b=Batch(y,j,batch_size)\n",
    "            \n",
    "            h_theta=x_b@theta\n",
    "            err=(h_theta-y_b)\n",
    "            cost_fun=(err.T@err)/(2*batch_size)\n",
    "            cost.append(cost_fun[0][0])\n",
    "            c_0=c_1\n",
    "            c_1=cost_fun[0][0]\n",
    "            grad= x_b.T@err/batch_size\n",
    "\n",
    "            vt = (gama*vt)+(alpha*grad)\n",
    "            theta=theta-vt\n",
    "        \n",
    "        \n",
    "        itr=itr+1\n",
    "    return theta"
   ]
  },
  {
   "cell_type": "code",
   "execution_count": 47,
   "metadata": {},
   "outputs": [],
   "source": [
    "weights=fit4(x_data=X_train,y_data=y_train,max_itr=10000,alpha=0.001,gama=0.98,batch_size=256)\n"
   ]
  },
  {
   "cell_type": "code",
   "execution_count": 48,
   "metadata": {},
   "outputs": [
    {
     "data": {
      "text/plain": [
       "array([[167.77365636],\n",
       "       [181.81969133],\n",
       "       [190.73702575],\n",
       "       [149.95597052],\n",
       "       [151.87129556],\n",
       "       [184.96109405],\n",
       "       [144.02448619],\n",
       "       [152.03444578],\n",
       "       [175.09570255],\n",
       "       [150.77037386],\n",
       "       [176.54572374],\n",
       "       [139.858144  ],\n",
       "       [165.77697311],\n",
       "       [114.18426339],\n",
       "       [176.63690743],\n",
       "       [199.16938533],\n",
       "       [152.45014208],\n",
       "       [174.91914496],\n",
       "       [189.09614568],\n",
       "       [185.74778872]])"
      ]
     },
     "execution_count": 48,
     "metadata": {},
     "output_type": "execute_result"
    }
   ],
   "source": [
    "y_predict=predict(X_train,weights)\n",
    "y_predict"
   ]
  },
  {
   "cell_type": "code",
   "execution_count": 49,
   "metadata": {},
   "outputs": [
    {
     "data": {
      "text/plain": [
       "0.9870731342050509"
      ]
     },
     "execution_count": 49,
     "metadata": {},
     "output_type": "execute_result"
    }
   ],
   "source": [
    "score=r2_score(y_train, y_predict)\n",
    "score"
   ]
  },
  {
   "cell_type": "markdown",
   "metadata": {},
   "source": [
    "## `NAG`"
   ]
  },
  {
   "cell_type": "code",
   "execution_count": 50,
   "metadata": {},
   "outputs": [],
   "source": [
    "def fit5(x_data,y_data,max_itr,alpha,gama,batch_size):\n",
    "    \n",
    "    x_0=np.ones((x_data.shape[0],1))\n",
    "    x_data=np.concatenate((x_0, x_data), axis=1)\n",
    "    y_data=np.array(y_data).reshape(y_data.shape[0],1)\n",
    "    x=x_data\n",
    "    y=y_data\n",
    "    cost=[]\n",
    "    theta=np.zeros( ((x.shape[1]),1) )\n",
    "    mt=np.zeros( ((x.shape[1]),1) )\n",
    "    vt=np.zeros( ((x.shape[1]),1) )\n",
    "    m=x_data.shape[0]\n",
    "    itr=0\n",
    "    i=0\n",
    "    epsilon=1e-8\n",
    "    grad=[1000000]\n",
    "    c_0=1e10 #asume large last cost\n",
    "    c_1=1e9 # asume large current cost\n",
    "    while( (itr< max_itr and abs(c_1-c_0)>0.000000000001)  ):\n",
    "        i=i+1\n",
    "        for j in range(0,m,batch_size):\n",
    "            x_b=Batch(x,j,batch_size)\n",
    "            y_b=Batch(y,j,batch_size)\n",
    "            \n",
    "            h_theta=x_b@theta\n",
    "            err=(h_theta-y_b)\n",
    "            cost_fun=(err.T@err)/(2*batch_size)\n",
    "            cost.append(cost_fun[0][0])\n",
    "            c_0=c_1\n",
    "            c_1=cost_fun[0][0]\n",
    "            \n",
    "            \n",
    "            theta_temp=theta-(gama*vt)\n",
    "            h_theta_temp=x_b@theta_temp\n",
    "            err_temp=(h_theta_temp-y_b)\n",
    "            grad_temp= x_b.T@err_temp/batch_size\n",
    "            theta=theta_temp-(alpha*grad_temp)\n",
    "            vt = (gama*vt)+(alpha*grad_temp)\n",
    "        \n",
    "        \n",
    "        itr=itr+1\n",
    "    return theta"
   ]
  },
  {
   "cell_type": "code",
   "execution_count": 51,
   "metadata": {},
   "outputs": [],
   "source": [
    "weights=fit5(x_data=X_train,y_data=y_train,max_itr=10000,alpha=0.00001,gama=0.98,batch_size=256)\n"
   ]
  },
  {
   "cell_type": "code",
   "execution_count": 52,
   "metadata": {},
   "outputs": [],
   "source": [
    "#for price data\n",
    "# weights=fit5(x_data=X_train,y_data=y_train,max_itr=10000,alpha=0.001,gama=0.98,batch_size=256)\n"
   ]
  },
  {
   "cell_type": "code",
   "execution_count": 53,
   "metadata": {},
   "outputs": [
    {
     "data": {
      "text/plain": [
       "array([[167.73083822],\n",
       "       [181.63710781],\n",
       "       [190.64596458],\n",
       "       [150.06448618],\n",
       "       [151.93780266],\n",
       "       [184.91615743],\n",
       "       [144.17286378],\n",
       "       [152.1784744 ],\n",
       "       [175.1206051 ],\n",
       "       [150.82911172],\n",
       "       [176.49655609],\n",
       "       [140.12303524],\n",
       "       [165.83997   ],\n",
       "       [114.41923931],\n",
       "       [176.54152819],\n",
       "       [198.96627451],\n",
       "       [152.51114146],\n",
       "       [174.91586889],\n",
       "       [189.00438865],\n",
       "       [185.65582976]])"
      ]
     },
     "execution_count": 53,
     "metadata": {},
     "output_type": "execute_result"
    }
   ],
   "source": [
    "y_predict=predict(X_train,weights)\n",
    "y_predict"
   ]
  },
  {
   "cell_type": "code",
   "execution_count": 54,
   "metadata": {},
   "outputs": [
    {
     "data": {
      "text/plain": [
       "0.9869328052990393"
      ]
     },
     "execution_count": 54,
     "metadata": {},
     "output_type": "execute_result"
    }
   ],
   "source": [
    "score=r2_score(y_train, y_predict)\n",
    "score"
   ]
  },
  {
   "cell_type": "code",
   "execution_count": 55,
   "metadata": {},
   "outputs": [],
   "source": [
    "class LRMiniBatchGradientDescent():\n",
    "    def __init__( self, max_itr,alpha ) : \n",
    "        self.max_itr=max_itr\n",
    "        self.alpha=alpha\n",
    "        \n",
    "    def Batch(self,x,start,batch_size):\n",
    "        return x[start:start+batch_size,:]\n",
    "\n",
    "    def fit(self,x_data,y_data):\n",
    "\n",
    "        x_0=np.ones((x_data.shape[0],1))\n",
    "        x_data=np.concatenate((x_0, x_data), axis=1)\n",
    "        y_data=np.array(y_data).reshape(y_data.shape[0],1)\n",
    "        x=x_data\n",
    "        y=y_data\n",
    "        cost=[]\n",
    "        theta=np.zeros( ((x.shape[1]),1) )\n",
    "        m=x_data.shape[0]\n",
    "        batch_size=64\n",
    "        itr=0\n",
    "        i=0\n",
    "        grad=[1000000]\n",
    "        c_0=1e10 #asume large last cost\n",
    "        c_1=1e9 # asume large current cost\n",
    "        while( (itr< self.max_itr and abs(c_1-c_0)>0.0000000001)  ):\n",
    "            i=i+1\n",
    "\n",
    "            for j in range(0,m,batch_size):\n",
    "\n",
    "                h_theta=self.Batch(x,j,batch_size)@theta\n",
    "                err=(h_theta-self.Batch(y,j,batch_size))\n",
    "                cost_fun=(err.T@err)/(2*batch_size)\n",
    "                cost.append(cost_fun[0][0])\n",
    "                c_0=c_1\n",
    "                c_1=cost_fun[0][0]\n",
    "\n",
    "                grad= (self.Batch(x,j,batch_size).T@err)/batch_size\n",
    "                theta=theta-(self.alpha*grad)\n",
    "            itr=itr+1\n",
    "            \n",
    "        self.theta=theta-(self.alpha*grad)\n",
    "        \n",
    "    \n",
    "\n",
    "    def predict(self,x):\n",
    "        w=self.theta\n",
    "        x_0=np.ones((x.shape[0],1))\n",
    "        x=np.concatenate((x_0, x), axis=1)\n",
    "        return x@w\n",
    "    \n",
    "    \n",
    "    def score(self,y,y_predict):\n",
    "        score=r2_score(y, y_predict)\n",
    "        return score\n",
    "    "
   ]
  },
  {
   "cell_type": "code",
   "execution_count": 56,
   "metadata": {},
   "outputs": [],
   "source": [
    "#for price data\n",
    "# model=LRMiniBatchGradientDescent(10000,0.001)"
   ]
  },
  {
   "cell_type": "code",
   "execution_count": 57,
   "metadata": {},
   "outputs": [],
   "source": [
    "model=LRMiniBatchGradientDescent(10000,0.0001)"
   ]
  },
  {
   "cell_type": "code",
   "execution_count": 58,
   "metadata": {},
   "outputs": [],
   "source": [
    "model.fit(X_train,y_train)"
   ]
  },
  {
   "cell_type": "code",
   "execution_count": 59,
   "metadata": {},
   "outputs": [],
   "source": [
    "y_predict=model.predict(X_train)\n"
   ]
  },
  {
   "cell_type": "code",
   "execution_count": 60,
   "metadata": {},
   "outputs": [
    {
     "data": {
      "text/plain": [
       "0.9869310765627041"
      ]
     },
     "execution_count": 60,
     "metadata": {},
     "output_type": "execute_result"
    }
   ],
   "source": [
    "model.score(y_train,y_predict)"
   ]
  },
  {
   "cell_type": "code",
   "execution_count": 61,
   "metadata": {},
   "outputs": [],
   "source": [
    "# pca =PCA(n_components=1)\n"
   ]
  },
  {
   "cell_type": "code",
   "execution_count": 62,
   "metadata": {},
   "outputs": [],
   "source": [
    "# X_train_pca=pca.fit_transform(X_train)\n"
   ]
  },
  {
   "cell_type": "code",
   "execution_count": 63,
   "metadata": {},
   "outputs": [],
   "source": [
    "# y_predict_pca=pca.transform(y_predict)\n"
   ]
  },
  {
   "cell_type": "code",
   "execution_count": 64,
   "metadata": {},
   "outputs": [],
   "source": [
    "# scaler=MinMaxScaler()\n",
    "# y_predict_s=scaler.fit_transform(y_predict)\n",
    "# y_train_s=scaler.transform(y_train)\n"
   ]
  },
  {
   "cell_type": "code",
   "execution_count": 65,
   "metadata": {},
   "outputs": [],
   "source": [
    "# plt.scatter(X_train_pca,y_train)\n",
    "# plt.plot(X_train_pca,y_predict)"
   ]
  },
  {
   "cell_type": "code",
   "execution_count": 66,
   "metadata": {},
   "outputs": [],
   "source": [
    "class LRMiniBatch():\n",
    "    def __init__( self, max_itr,alpha,batch_size,opt,gama=None,beta=None,beta_1=None,beta_2=None,epsilon=1e-8,tolerance=1e-6) : \n",
    "        self.max_itr=max_itr\n",
    "        self.alpha=alpha\n",
    "        self.batch_size=batch_size\n",
    "        self.opt=opt\n",
    "        self.gama=gama\n",
    "        self.beta=beta\n",
    "        self.beta_1=beta_1\n",
    "        self.beta_2=beta_2\n",
    "        self.epsilon=epsilon\n",
    "        self.tolerance=tolerance\n",
    "        \n",
    "    def Batch(self,x,start,batch_size):\n",
    "        return x[start:start+batch_size,:]\n",
    "\n",
    "    def fit(self,x_data,y_data):\n",
    "\n",
    "        x_0=np.ones((x_data.shape[0],1))\n",
    "        x_data=np.concatenate((x_0, x_data), axis=1)\n",
    "        y_data=np.array(y_data).reshape(y_data.shape[0],1)\n",
    "        x=x_data\n",
    "        y=y_data\n",
    "        cost=[]\n",
    "        cost_itrs=[]\n",
    "        h_theta_itrs=[]\n",
    "        theta=np.zeros( ((x.shape[1]),1) )\n",
    "        m=x_data.shape[0]\n",
    "        vt=0\n",
    "        mt=0\n",
    "        itr=0\n",
    "        i=0\n",
    "        grad=[1000000]\n",
    "        c_0=1e10 #asume large last cost\n",
    "        c_1=1e9 # asume large current cost\n",
    "        if self.batch_size>m:\n",
    "            \n",
    "            self.batch_size=m\n",
    "            \n",
    "        while( (itr< self.max_itr and abs(c_1-c_0)>self.tolerance)  ):\n",
    "            i=i+1\n",
    "\n",
    "            for j in range(0,m,self.batch_size):\n",
    "                \n",
    "                x_b=self.Batch(x,j,self.batch_size)\n",
    "                y_b=self.Batch(y,j,self.batch_size)\n",
    "                \n",
    "                h_theta=x_b@theta\n",
    "                err=(h_theta-y_b)\n",
    "                cost_fun=(err.T@err)/(2*self.batch_size)\n",
    "                cost.append(cost_fun[0][0])\n",
    "                c_0=c_1\n",
    "                c_1=cost_fun[0][0]\n",
    "                grad= (x_b.T@err)/self.batch_size\n",
    "                \n",
    "                if (self.opt=='gd'):\n",
    "                    theta=theta-(self.alpha*grad)\n",
    "                    \n",
    "                elif(self.opt==\"momentum\"):\n",
    "                    vt = (self.gama*vt)+(self.alpha*grad)\n",
    "                    theta=theta-vt\n",
    "                    \n",
    "                elif(self.opt==\"nag\"):\n",
    "                    theta_temp=theta-(self.gama*vt)\n",
    "                    h_theta_temp=x_b@theta_temp\n",
    "                    err_temp=(h_theta_temp-y_b)\n",
    "                    grad_temp= x_b.T@err_temp/self.batch_size\n",
    "                    theta=theta_temp-(self.alpha*grad_temp)\n",
    "                    vt = (self.gama*vt)+(self.alpha*grad_temp)\n",
    "                    \n",
    "                elif(self.opt==\"rms\"):\n",
    "                    vt = (self.beta*vt)+((1-self.beta)*(grad**2))\n",
    "                    theta=theta-(self.alpha/((self.epsilon+vt)**0.5)) *grad\n",
    "                    \n",
    "                elif(self.opt==\"adagrad\"):\n",
    "                    vt = (vt)+(grad**2)\n",
    "                    theta=theta-(self.alpha/((self.epsilon+vt)**0.5)) *grad\n",
    "                    \n",
    "                elif(self.opt==\"adam\"):\n",
    "                    mt=(self.beta_1*mt)+((1-self.beta_1)*grad)\n",
    "                    mt=mt/( 1 - pow(self.beta_1, i+1) )\n",
    "                    vt = (self.beta_2*vt)+((1-self.beta_2)*(grad**2))\n",
    "                    vt=vt/( 1 - pow(self.beta_2, i+1) )#bias\n",
    "                    theta=theta-(self.alpha/((self.epsilon+vt)**0.5)) *mt\n",
    "                    \n",
    "                if (len(cost)>2 and abs(cost[-2]-cost[-1])<self.tolerance):\n",
    "                    break\n",
    "                    \n",
    "\n",
    "                        \n",
    "            h_theta_itr=x@theta\n",
    "            h_theta_itrs.append(h_theta_itr)\n",
    "            cost_itrs.append(cost_fun[0][0])\n",
    "\n",
    "            itr=itr+1\n",
    "            \n",
    "        self.theta=theta-(self.alpha*grad)\n",
    "        self.cost=cost\n",
    "        self.cost_itrs=cost_itrs\n",
    "        self.h_theta_itrs=h_theta_itrs\n",
    "        \n",
    "        \n",
    "    \n",
    "\n",
    "    def predict(self,x):\n",
    "        w=self.theta\n",
    "        x_0=np.ones((x.shape[0],1))\n",
    "        x=np.concatenate((x_0, x), axis=1)\n",
    "        return x@w\n",
    "    \n",
    "    \n",
    "    def score(self,y,y_predict):\n",
    "        score=r2_score(y, y_predict)\n",
    "        return score\n",
    "    "
   ]
  },
  {
   "cell_type": "code",
   "execution_count": 68,
   "metadata": {},
   "outputs": [],
   "source": [
    "model=LRMiniBatch(max_itr=1000,alpha=0.001,batch_size=10,opt=\"adam\",beta_1=0.82,beta_2=0.9,tolerance=1e-3)"
   ]
  },
  {
   "cell_type": "code",
   "execution_count": 69,
   "metadata": {},
   "outputs": [],
   "source": [
    "model.fit(X_train,y_train)"
   ]
  },
  {
   "cell_type": "code",
   "execution_count": 70,
   "metadata": {},
   "outputs": [],
   "source": [
    "y_predict=model.predict(X_train)\n"
   ]
  },
  {
   "cell_type": "code",
   "execution_count": 71,
   "metadata": {},
   "outputs": [
    {
     "data": {
      "text/plain": [
       "0.9722544502354481"
      ]
     },
     "execution_count": 71,
     "metadata": {},
     "output_type": "execute_result"
    }
   ],
   "source": [
    "model.score(y_train,y_predict)"
   ]
  },
  {
   "cell_type": "code",
   "execution_count": 72,
   "metadata": {},
   "outputs": [
    {
     "data": {
      "text/plain": [
       "3.067443834907864"
      ]
     },
     "execution_count": 72,
     "metadata": {},
     "output_type": "execute_result"
    }
   ],
   "source": [
    "model.cost[-2]- model.cost[-1]"
   ]
  },
  {
   "cell_type": "code",
   "execution_count": 73,
   "metadata": {},
   "outputs": [
    {
     "data": {
      "text/plain": [
       "1.3986080484959786"
      ]
     },
     "execution_count": 73,
     "metadata": {},
     "output_type": "execute_result"
    }
   ],
   "source": [
    "model.cost[-1]"
   ]
  },
  {
   "cell_type": "code",
   "execution_count": 74,
   "metadata": {},
   "outputs": [
    {
     "data": {
      "text/plain": [
       "4.466051883403843"
      ]
     },
     "execution_count": 74,
     "metadata": {},
     "output_type": "execute_result"
    }
   ],
   "source": [
    "model.cost[-2]"
   ]
  },
  {
   "cell_type": "code",
   "execution_count": 75,
   "metadata": {},
   "outputs": [],
   "source": [
    "y_predict_test=model.predict(X_test)"
   ]
  },
  {
   "cell_type": "code",
   "execution_count": 76,
   "metadata": {},
   "outputs": [
    {
     "data": {
      "text/plain": [
       "0.9854202106499764"
      ]
     },
     "execution_count": 76,
     "metadata": {},
     "output_type": "execute_result"
    }
   ],
   "source": [
    "model.score(y_test,y_predict_test)"
   ]
  },
  {
   "cell_type": "code",
   "execution_count": 77,
   "metadata": {},
   "outputs": [
    {
     "data": {
      "text/plain": [
       "2000"
      ]
     },
     "execution_count": 77,
     "metadata": {},
     "output_type": "execute_result"
    }
   ],
   "source": [
    "cc=len(model.cost)\n",
    "cc"
   ]
  },
  {
   "cell_type": "code",
   "execution_count": 78,
   "metadata": {
    "scrolled": true
   },
   "outputs": [
    {
     "data": {
      "text/plain": [
       "1000"
      ]
     },
     "execution_count": 78,
     "metadata": {},
     "output_type": "execute_result"
    }
   ],
   "source": [
    "len(model.cost_itrs)"
   ]
  },
  {
   "cell_type": "code",
   "execution_count": 79,
   "metadata": {},
   "outputs": [],
   "source": [
    "# model.cost"
   ]
  },
  {
   "cell_type": "code",
   "execution_count": 80,
   "metadata": {},
   "outputs": [
    {
     "data": {
      "image/png": "[encoded data removed]",
      "text/plain": [
       "<Figure size 432x288 with 1 Axes>"
      ]
     },
     "metadata": {
      "needs_background": "light"
     },
     "output_type": "display_data"
    }
   ],
   "source": [
    "plt.plot(model.cost_itrs,marker='o');\n",
    "plt.xticks();\n"
   ]
  },
  {
   "cell_type": "code",
   "execution_count": 81,
   "metadata": {},
   "outputs": [],
   "source": [
    "# h_theta_itrs=np.array(model.h_theta_itrs)"
   ]
  },
  {
   "cell_type": "code",
   "execution_count": 82,
   "metadata": {
    "scrolled": true
   },
   "outputs": [],
   "source": [
    "# h_theta_itrs[1,:].shape"
   ]
  },
  {
   "cell_type": "code",
   "execution_count": 83,
   "metadata": {},
   "outputs": [],
   "source": [
    "# X_train.shape"
   ]
  },
  {
   "cell_type": "code",
   "execution_count": 84,
   "metadata": {},
   "outputs": [],
   "source": [
    "# for i in range (131):\n",
    "#     plt.scatter(X_train,y_train)\n",
    "#     plt.plot(X_train,h_theta_itrs[i,:])\n",
    "# #     plt.show()"
   ]
  },
  {
   "cell_type": "code",
   "execution_count": null,
   "metadata": {},
   "outputs": [],
   "source": []
  },
  {
   "cell_type": "code",
   "execution_count": null,
   "metadata": {},
   "outputs": [],
   "source": []
  }
 ],
 "metadata": {
  "kernelspec": {
   "display_name": "Python 3",
   "language": "python",
   "name": "python3"
  },
  "language_info": {
   "codemirror_mode": {
    "name": "ipython",
    "version": 3
   },
   "file_extension": ".py",
   "mimetype": "text/x-python",
   "name": "python",
   "nbconvert_exporter": "python",
   "pygments_lexer": "ipython3",
   "version": "3.7.6"
  }
 },
 "nbformat": 4,
 "nbformat_minor": 4
}
